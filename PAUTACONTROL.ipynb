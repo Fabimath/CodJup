{
 "cells": [
  {
   "cell_type": "code",
   "execution_count": 4,
   "id": "f7e94c8d-b942-423f-9ef7-94dbc19e6b23",
   "metadata": {},
   "outputs": [
    {
     "data": {
      "text/plain": [
       "\n",
       "Call:\n",
       "lm(formula = Y ~ X1 + X2 + X3 + X4, data = df)\n",
       "\n",
       "Residuals:\n",
       "     Min       1Q   Median       3Q      Max \n",
       "-21.7096  -3.5763   0.6177   5.2862  16.2480 \n",
       "\n",
       "Coefficients:\n",
       "            Estimate Std. Error t value Pr(>|t|)    \n",
       "(Intercept)   8.1193    14.4766   0.561  0.57768    \n",
       "X1           -0.3816     1.2255  -0.311  0.75692    \n",
       "X2            0.5293     0.6829   0.775  0.44232    \n",
       "X3            1.5950     0.2021   7.892 4.95e-10 ***\n",
       "X4            0.9606     0.2751   3.492  0.00109 ** \n",
       "---\n",
       "Signif. codes:  0 '***' 0.001 '**' 0.01 '*' 0.05 '.' 0.1 ' ' 1\n",
       "\n",
       "Residual standard error: 8.303 on 45 degrees of freedom\n",
       "Multiple R-squared:  0.6352,\tAdjusted R-squared:  0.6028 \n",
       "F-statistic: 19.59 on 4 and 45 DF,  p-value: 2.136e-09\n"
      ]
     },
     "metadata": {},
     "output_type": "display_data"
    }
   ],
   "source": [
    "df = read.csv('https://raw.githubusercontent.com/Fabimath/CodJup/main/datos.csv')\n",
    "reg=lm(Y~X1+X2+X3+X4,data=df)\n",
    "summary(reg)"
   ]
  },
  {
   "cell_type": "markdown",
   "id": "0153b572-eef1-45f0-9004-5e9513235d56",
   "metadata": {},
   "source": [
    "Significancia 0.02\n",
    "1. ¿Se cumple el supuesto de independecia de los residuos?\n",
    "2. ¿Qué se puede decir de la validez del modelo de regresión? Justifique mediante un test-F\n",
    "3. ¿Comó se interpresta el R2?,¿y el R2 ajustado?, opine sobre la calidad del modelo.\n",
    "4. ¿Qué covariable es mas significativa en el modelo?,¿por qué?, ¿que significa que sea 'más significativa'?\n",
    "5. Opine sobre el valor del coeficiente de X1, ¿es razonable que valga 0?, ¿qué significa que valga 0 en el contexto?\n",
    "6. Opine sobre el valor del coeficiente de X2, ¿es razonable que valga 0?, y con una significancia del 0.01, ¿es razonable que valga 0?\n",
    "7. Considere este nuevo modelo:\n",
    "   \n",
    "     Y=β0+β3X3+β4X4\n",
    "   \n",
    "cual de los dos modelos trabajaría, ¿por qué?"
   ]
  },
  {
   "cell_type": "markdown",
   "id": "f8ee12c9-e5f6-4a21-9eec-a0c414235f7c",
   "metadata": {},
   "source": [
    "1. P1"
   ]
  },
  {
   "cell_type": "code",
   "execution_count": null,
   "id": "079f0144-dda3-4e29-802a-0dc3eee239ca",
   "metadata": {},
   "outputs": [
    {
     "data": {
      "text/plain": [
       "\n",
       "\tShapiro-Wilk normality test\n",
       "\n",
       "data:  residuals(reg)\n",
       "W = 0.96469, p-value = 0.1398\n"
      ]
     },
     "metadata": {},
     "output_type": "display_data"
    }
   ],
   "source": [
    "shapiro.test(residuals(reg))"
   ]
  },
  {
   "cell_type": "markdown",
   "id": "0fa1d918-3d1d-4087-8ade-7778a51e26af",
   "metadata": {},
   "source": [
    "NO RECHAZO. SON NORMALES."
   ]
  },
  {
   "cell_type": "markdown",
   "id": "78fc6541-da0b-4f41-b8ae-1fb97b71b7aa",
   "metadata": {},
   "source": [
    "2. P2\n",
    "\n",
    "`F-statistic: 19.59 on 4 and 45 DF,  p-value: 2.136e-09`\n",
    "\n",
    "RECHAZO EL HECHO DE LOS COEFICIENTES SEAN 0. EL MODELO ES SIGNIFICATIVO."
   ]
  },
  {
   "cell_type": "markdown",
   "id": "856c5ae2-9870-4045-84c2-032887119db4",
   "metadata": {},
   "source": [
    "3. P3\n",
    "\n",
    "`Multiple R-squared:  0.6352,\tAdjusted R-squared:  0.6028`\n",
    "\n",
    "EL 63.52% DE LA VARIABILIDAD DE Y PUEDE SER EXPLICADA POR X1,X2,X3,X4. EL R2 AJUSTADO PENALIZA EL HECHO QUE ESTEN PRESENTES LAS 4 COVARIABLES.\n",
    "\n",
    "EL MODELO ES RAZONABLE PERO NO ES DE MUY BUENA CALIDAD PUES EL R2 NO ES MUY CERCANO A 1."
   ]
  },
  {
   "cell_type": "markdown",
   "id": "1017a8b1-981d-4d40-bec0-334ec7fdf2f4",
   "metadata": {},
   "source": [
    "4. P4\n",
    "\n",
    "`X3            1.5950     0.2021   7.892 4.95e-10 ***`\n",
    "\n",
    "X3 es más significativo pues tiene valor P más pequeño (4.95e-10)"
   ]
  },
  {
   "cell_type": "markdown",
   "id": "cdff0a4f-9881-4448-9ed1-ac3c001ea75a",
   "metadata": {},
   "source": [
    "5. P5\n",
    "\n",
    "`X1           -0.3816     1.2255  -0.311  0.75692    `\n",
    "\n",
    "SI PUES SU P-VALOR (0.75692) ES MAYOR A NUESTRA SIGNIFICANCIA (0.02). EL COEFICIENTE QUE ACOMPAÑA A X1 ES RAZONABLE QUE VALGA 0. INTERPRETACIÓN: X1 NO APORTA A LA EXPLIACIÓN DE Y."
   ]
  },
  {
   "cell_type": "markdown",
   "id": "864efacd-c6ce-4141-ac76-71d53b007918",
   "metadata": {},
   "source": [
    "6. P6\n",
    "\n",
    "`X2            0.5293     0.6829   0.775  0.44232    `\n",
    "\n",
    "SI PUES SU P-VALOR (0.44232) ES MAYOR A NUESTRA SIGNIFICANCIA (0.02) INCLUSIVE SI LA SIGNIFICANCIA FUERA 0.01  . EL COEFICIENTE QUE ACOMPAÑA A X2 ES RAZONABLE QUE VALGA 0. INTERPRETACIÓN: X2 NO APORTA A LA EXPLIACIÓN DE Y."
   ]
  },
  {
   "cell_type": "markdown",
   "id": "e2bc6981-daae-4be4-8768-2e80385bbf58",
   "metadata": {},
   "source": [
    "7. P7"
   ]
  },
  {
   "cell_type": "code",
   "execution_count": 8,
   "id": "d1c0d18d-4882-4ce8-864d-4e411bae2313",
   "metadata": {},
   "outputs": [
    {
     "data": {
      "text/plain": [
       "\n",
       "Call:\n",
       "lm(formula = Y ~ X3 + X4, data = df)\n",
       "\n",
       "Residuals:\n",
       "     Min       1Q   Median       3Q      Max \n",
       "-21.5234  -3.7356   0.6367   5.5406  14.8021 \n",
       "\n",
       "Coefficients:\n",
       "            Estimate Std. Error t value Pr(>|t|)    \n",
       "(Intercept)   9.1599     4.3032   2.129 0.038554 *  \n",
       "X3            1.6323     0.1939   8.418 6.11e-11 ***\n",
       "X4            0.9893     0.2680   3.692 0.000579 ***\n",
       "---\n",
       "Signif. codes:  0 '***' 0.001 '**' 0.01 '*' 0.05 '.' 0.1 ' ' 1\n",
       "\n",
       "Residual standard error: 8.187 on 47 degrees of freedom\n",
       "Multiple R-squared:  0.6296,\tAdjusted R-squared:  0.6138 \n",
       "F-statistic: 39.95 on 2 and 47 DF,  p-value: 7.307e-11\n"
      ]
     },
     "metadata": {},
     "output_type": "display_data"
    }
   ],
   "source": [
    "reg2=lm(Y~X3+X4,data=df)\n",
    "summary(reg2)"
   ]
  },
  {
   "cell_type": "markdown",
   "id": "1d8a221c-c459-468f-ba74-b9f7a900d605",
   "metadata": {},
   "source": [
    "ESTE SEGUNDO MODELO TIENE TODAS SUS COVARIABLES SIGNIFICATIVAS Y SU R2 AJUSTADO ES MEJOR QUE EL DEL MODELO ANTERIOR. AUNQUE TIENE UN PEOR R2 ES TAN BAJA LA DIFERENCIA QUE POR EL HECHO DE QUE ESTE NUEVO MODELO TIENE DOS CARACTERIZTICAS MEJORES QUE EL ANTERIOR (R2 AJUSTADO Y SIGNIFICANCIA DE VARIABLES) ENTONCES SE SUGIERE TRABAJAR CON ESTE NUEVO MODELO."
   ]
  }
 ],
 "metadata": {
  "kernelspec": {
   "display_name": "R",
   "language": "R",
   "name": "ir"
  },
  "language_info": {
   "codemirror_mode": "r",
   "file_extension": ".r",
   "mimetype": "text/x-r-source",
   "name": "R",
   "pygments_lexer": "r",
   "version": "4.3.3"
  }
 },
 "nbformat": 4,
 "nbformat_minor": 5
}
