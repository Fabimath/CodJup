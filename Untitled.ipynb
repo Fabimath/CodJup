{
 "cells": [
  {
   "cell_type": "markdown",
   "id": "b3b367bd-4562-40a3-9f7e-fbb06965b7c5",
   "metadata": {},
   "source": [
    "# Ejercicio 3\n",
    "## Aes520\n",
    "\n",
    "El objetivo de este ejercicio es aprender a trabajar con bases de datos en R, para ejecutar la base de datos debe copiar el URL entregado en la siguiente linea de código y los datos quedarán guardados en la variable `df`"
   ]
  },
  {
   "cell_type": "code",
   "execution_count": 12,
   "id": "517099f6-160c-438c-9212-1dfb13c734e1",
   "metadata": {},
   "outputs": [
    {
     "data": {
      "text/html": [
       "<table class=\"dataframe\">\n",
       "<caption>A data.frame: 6 × 1</caption>\n",
       "<thead>\n",
       "\t<tr><th></th><th scope=col>largos</th></tr>\n",
       "\t<tr><th></th><th scope=col>&lt;dbl&gt;</th></tr>\n",
       "</thead>\n",
       "<tbody>\n",
       "\t<tr><th scope=row>1</th><td>606.3148</td></tr>\n",
       "\t<tr><th scope=row>2</th><td>598.3688</td></tr>\n",
       "\t<tr><th scope=row>3</th><td>606.6490</td></tr>\n",
       "\t<tr><th scope=row>4</th><td>606.3621</td></tr>\n",
       "\t<tr><th scope=row>5</th><td>602.0732</td></tr>\n",
       "\t<tr><th scope=row>6</th><td>592.3002</td></tr>\n",
       "</tbody>\n",
       "</table>\n"
      ],
      "text/latex": [
       "A data.frame: 6 × 1\n",
       "\\begin{tabular}{r|l}\n",
       "  & largos\\\\\n",
       "  & <dbl>\\\\\n",
       "\\hline\n",
       "\t1 & 606.3148\\\\\n",
       "\t2 & 598.3688\\\\\n",
       "\t3 & 606.6490\\\\\n",
       "\t4 & 606.3621\\\\\n",
       "\t5 & 602.0732\\\\\n",
       "\t6 & 592.3002\\\\\n",
       "\\end{tabular}\n"
      ],
      "text/markdown": [
       "\n",
       "A data.frame: 6 × 1\n",
       "\n",
       "| <!--/--> | largos &lt;dbl&gt; |\n",
       "|---|---|\n",
       "| 1 | 606.3148 |\n",
       "| 2 | 598.3688 |\n",
       "| 3 | 606.6490 |\n",
       "| 4 | 606.3621 |\n",
       "| 5 | 602.0732 |\n",
       "| 6 | 592.3002 |\n",
       "\n"
      ],
      "text/plain": [
       "  largos  \n",
       "1 606.3148\n",
       "2 598.3688\n",
       "3 606.6490\n",
       "4 606.3621\n",
       "5 602.0732\n",
       "6 592.3002"
      ]
     },
     "metadata": {},
     "output_type": "display_data"
    }
   ],
   "source": [
    "df = read.csv('https://raw.githubusercontent.com/Fabimath/CodJup/main/longitudes.csv')\n",
    "head(df)"
   ]
  },
  {
   "cell_type": "markdown",
   "id": "961b934b-3d04-45ce-b4f1-b2730f548ed8",
   "metadata": {},
   "source": [
    "La base de datos contiene las mediciones de la longitud de 1000 fierros en metros que se van a utilizar en la construcción de un edificio."
   ]
  },
  {
   "cell_type": "markdown",
   "id": "6099269a-38f7-412c-9f88-b2b923a47b35",
   "metadata": {},
   "source": [
    "### Problema 1\n",
    "* Realice un pequeño informe de no más de 10 lineas sobre los estadísticos más relevantes de la variable.\n",
    "* Realice un histograma de los datos. ¿Es consistente los valores de los estadísticos?, comente.\n",
    "* Realice un Box-Plot de los datos. ¿Qué se puede comentar sobre la distribución de los datos?,¿es consistente con el histograma?, ¿hay precencia de datos extraños?\n",
    "\n",
    "### Problema 2\n",
    "* ¿Se puede afirmar que los datos son normales basados en la información del __Problema 1__?\n",
    "* Investigue sobre algún test de hipótesis en R que permita chequear si los datos son normales. Ponga el test a prueba en el conjunto de datos entregado.\n",
    "* Realice un intervalo de confianza al 90% para la verdadera media de la variable longitud del fierro. Interprete el resultado en el contexto del problema.\n",
    "\n",
    "### Problema 3\n",
    "* Los informes de la empresa sugieren que la verdadera longitud media de los fierros es mayor o igual a 600. Un nuevo trabajador suguiere en realidad que es menor. Con una significancia del 1%, realice un test de hipótesis que le permita dar respuesta el trabajador."
   ]
  }
 ],
 "metadata": {
  "kernelspec": {
   "display_name": "R",
   "language": "R",
   "name": "ir"
  },
  "language_info": {
   "codemirror_mode": "r",
   "file_extension": ".r",
   "mimetype": "text/x-r-source",
   "name": "R",
   "pygments_lexer": "r",
   "version": "4.3.3"
  }
 },
 "nbformat": 4,
 "nbformat_minor": 5
}
