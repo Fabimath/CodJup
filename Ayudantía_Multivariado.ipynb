{
 "cells": [
  {
   "cell_type": "markdown",
   "id": "db2a48ec-c127-4623-b7c8-421dc165ded6",
   "metadata": {},
   "source": [
    "# Ayudantía\n",
    "\n",
    "## Problema"
   ]
  },
  {
   "cell_type": "code",
   "execution_count": 8,
   "id": "16db17ed-653c-4a7d-80e7-df87a57c730b",
   "metadata": {},
   "outputs": [],
   "source": [
    "#IGNORAR ESTO SOLO GENERA LOS DATOS\n",
    "set.seed(0)\n",
    "n = 50\n",
    "error =rnorm(n,0,10)\n",
    "X1 = rnorm(n,10,1)\n",
    "X2 = rnorm(n,11,2)\n",
    "X3 = rnorm(n,10,6)\n",
    "X4 = rnorm(n,13,4)\n",
    "Y = 3*rep(1,n)+0.01*X1+0.1*X2 + 2*X3 + X4 + error"
   ]
  },
  {
   "cell_type": "markdown",
   "id": "6f55465e-39b2-4f57-ae40-593a2566e059",
   "metadata": {},
   "source": [
    "En una empresa se busca estudiar las ganancias y perdidas de una empresa diariamente. Para ello se estudian las ganancias y perdidas díaras representadas con la variable $Y$. Además se adjunta los datos diarios de:\n",
    "* $X1$: La cantidad de productos vendidos en [kg].\n",
    "* $X2$: La cantidad de cargamento recibido en [kg].\n",
    "* $X3$: El costo diario de compra del producto en [Clp].\n",
    "* $X4$: La diferencia de valor entre el dolar y el peso chileno.\n",
    "A continuación se presenta un modelo de regresión lineal que busca explicar la variable $Y$ en terminos de $X1,X2,X3$ y $X4$, es decir mediante la ecuación:\n",
    "$$\n",
    "Y = \\beta_0 + \\beta_1 X1 + \\beta_2 X2 + \\beta_3 X3 + \\beta_4 X4 + \\epsilon\n",
    "$$\n",
    "Una vez ajustado el modelo se presenta la siguiente tabla resumen:"
   ]
  },
  {
   "cell_type": "code",
   "execution_count": 14,
   "id": "2e6c9b13-5fc7-4f76-a59d-57bdb5a8d8fc",
   "metadata": {},
   "outputs": [
    {
     "data": {
      "text/plain": [
       "\n",
       "Call:\n",
       "lm(formula = Y ~ X1 + X2 + X3 + X4)\n",
       "\n",
       "Residuals:\n",
       "    Min      1Q  Median      3Q     Max \n",
       "-19.312  -7.439  -1.336   6.710  20.381 \n",
       "\n",
       "Coefficients:\n",
       "            Estimate Std. Error t value Pr(>|t|)    \n",
       "(Intercept) -30.3612    17.6797  -1.717 0.092802 .  \n",
       "X1            1.6924     1.5035   1.126 0.266279    \n",
       "X2            1.5964     0.7221   2.211 0.032177 *  \n",
       "X3            1.9282     0.2151   8.966 1.42e-11 ***\n",
       "X4            1.1275     0.2992   3.768 0.000476 ***\n",
       "---\n",
       "Signif. codes:  0 '***' 0.001 '**' 0.01 '*' 0.05 '.' 0.1 ' ' 1\n",
       "\n",
       "Residual standard error: 9.014 on 45 degrees of freedom\n",
       "Multiple R-squared:  0.6914,\tAdjusted R-squared:  0.664 \n",
       "F-statistic: 25.21 on 4 and 45 DF,  p-value: 5.36e-11\n"
      ]
     },
     "metadata": {},
     "output_type": "display_data"
    },
    {
     "data": {
      "text/plain": [
       "\n",
       "\tShapiro-Wilk normality test\n",
       "\n",
       "data:  residuals(lm(Y ~ X1 + X2 + X3 + X4))\n",
       "W = 0.98029, p-value = 0.5644\n"
      ]
     },
     "metadata": {},
     "output_type": "display_data"
    }
   ],
   "source": [
    "summary(lm(Y~X1+X2+X3+X4))\n",
    "shapiro.test(residuals(lm(Y~X1+X2+X3+X4)))"
   ]
  },
  {
   "cell_type": "markdown",
   "id": "d322e7a9-b310-48d6-8687-b31b8219a47d",
   "metadata": {},
   "source": [
    "Considerando una significancia del $0.05$ responda:\n",
    "1. ¿Se cumple el supuesto de independecia de los residuos?\n",
    "2. ¿Qué se puede decir de la validez del modelo de regresión? Justifique mediante un test-F\n",
    "3. ¿Comó se interpresta el $R^2$?,¿y el $R^2$ ajustado?, opine sobre la calidad del modelo.\n",
    "4. ¿Qué covariable es mas significativa en el modelo?,¿por qué?, ¿que significa que sea 'más significativa'?\n",
    "5. Opine sobre el valor del coeficiente de X1, ¿es razonable que valga 0?, ¿qué significa que valga 0 en el contexto?\n",
    "6. Opine sobre el valor del coeficiente de X2, ¿es razonable que valga 0?, y con una significancia del 0.01, ¿es razonable que valga 0?\n",
    "7. Considere este nuevo modelo:\n",
    "$$\n",
    "Y = \\beta_0 + \\beta_3 X3 + \\beta_4 X4\n",
    "$$\n",
    "cuya tabla resumen es:"
   ]
  },
  {
   "cell_type": "code",
   "execution_count": 17,
   "id": "f0e718e7-4ea7-4026-b075-8a4da1b96aab",
   "metadata": {},
   "outputs": [
    {
     "data": {
      "text/plain": [
       "\n",
       "Call:\n",
       "lm(formula = Y ~ X3 + X4)\n",
       "\n",
       "Residuals:\n",
       "    Min      1Q  Median      3Q     Max \n",
       "-16.468  -6.548  -2.158   7.373  24.089 \n",
       "\n",
       "Coefficients:\n",
       "            Estimate Std. Error t value Pr(>|t|)    \n",
       "(Intercept)   4.6009     4.9142   0.936  0.35393    \n",
       "X3            1.9584     0.2238   8.751 1.98e-11 ***\n",
       "X4            1.0184     0.3071   3.316  0.00177 ** \n",
       "---\n",
       "Signif. codes:  0 '***' 0.001 '**' 0.01 '*' 0.05 '.' 0.1 ' ' 1\n",
       "\n",
       "Residual standard error: 9.408 on 47 degrees of freedom\n",
       "Multiple R-squared:  0.649,\tAdjusted R-squared:  0.6341 \n",
       "F-statistic: 43.45 on 2 and 47 DF,  p-value: 2.063e-11\n"
      ]
     },
     "metadata": {},
     "output_type": "display_data"
    },
    {
     "data": {
      "text/plain": [
       "\n",
       "\tShapiro-Wilk normality test\n",
       "\n",
       "data:  residuals(lm(Y ~ X3 + X4))\n",
       "W = 0.97577, p-value = 0.3903\n"
      ]
     },
     "metadata": {},
     "output_type": "display_data"
    }
   ],
   "source": [
    "summary(lm(Y~X3+X4))\n",
    "shapiro.test(residuals(lm(Y~X3+X4)))"
   ]
  },
  {
   "cell_type": "markdown",
   "id": "94c00548-80f0-4d96-bb33-f2a08237a70c",
   "metadata": {},
   "source": [
    "Comparativamente hablando, con cual de los dos modelos trabajaría, ¿por qué?"
   ]
  },
  {
   "cell_type": "markdown",
   "id": "f058f3b6-aaed-48cc-8ee5-a578e96a0152",
   "metadata": {},
   "source": [
    "## Respuestas\n",
    "1. Para saber si los residuos siguen una distribución normal se debe usar el shapiro-test, este ya esta mostrado en la tabla resumen y nos entrega la siguiente información:\n",
    "\n",
    "\tShapiro-Wilk normality test\n",
    "\n",
    "\tdata:  residuals(lm(Y ~ X1 + X2 + X3 + X4))\n",
    "\tW = 0.98029, p-value = 0.5644\n",
    "\n",
    "   Donde de aquí W es el valor numerico de la prueba, el cual no es relevante para el caso ya que con ese valor se obtiene el valor p o p-value cuya interpretación es la mas importante de todo.\n",
    "   \n",
    "   El Valor-p es la significancia mínima que se debe tomar para rechazar una hipotesis.\n",
    "   \n",
    "   La hipotesis del shapiro test es que *Los errores son normales*\n",
    "   \n",
    "   Ahora su p-valor es 0.5644 es decir con una significancia mas grande que 0.5644 yo puedo decir que los errores no son normales y por tanto para significancias mas pequeñas que 0.5644 debo decir que los errores son normales.\n",
    "   \n",
    "   como mi significancia dada en el enunciado es de 0.05 que es mas pequeño que este p-valor entonces puedo decir **los errores son normales** y por tanto se cumple el supuesto que de los errores de la recta de la regresión siguen una distribución normal."
   ]
  },
  {
   "cell_type": "markdown",
   "id": "1898d341-af64-4e00-b707-435e6c4d07e6",
   "metadata": {},
   "source": [
    "2. Para ver la significancia global de un modelo de regresión se debe hacer un test-F, en la tabla resumen se puede ver la siguiente linea\n",
    "\n",
    "\tF-statistic: 43.45 on 2 and 47 DF,  p-value: 2.063e-11\n",
    "\n",
    "\tEl test-F tiene la siguiente hipótesis _todos los $\\beta_i$ valen 0_\n",
    "    \n",
    "    Entonces el valor-p de este test es 2.063e-11 un número exajeradamente pequeño, por tanto para significancias mas pequeñas que este número puedo decir que todos los parámetros valen 0. Pero como nuestra significancia que es 0.05 es mas grande que este p-valor entonces **no puedo decir que todos los parámetros valen 0**, es decir el modelo es valido.\n"
   ]
  },
  {
   "cell_type": "markdown",
   "id": "bb20968b-f593-4ea1-9fcc-010cac36b69c",
   "metadata": {},
   "source": [
    "3. El $R^2$ se interpreta como el porcentaje de variablidad de la variable $Y$ que puede ser explicada por las Variables X1,X2,X3 y X4. En particular nuestro $R^2$ es del 64,2% es decir que la variabilidad en las ganancias y perdida de la empresa pueden ser explicadas a traves de La cantidad de productos vendidos, cantidad de cargamento recibido, rl costo diario de compra del producto y la diferencia de valor entre el dolar y el peso chileno. El $R^2$ ajustado penaliza la cantidad de variables (en este caso es 4) y se interpreta de la misma manera que el $R^2$. Con un 64,2% y un 63,4% podemos comentar que el ajuste no es el mejor que se pueden obtener resultados útiles aún."
   ]
  },
  {
   "cell_type": "markdown",
   "id": "bed70082-d4cd-4f58-a7ba-b82a328ea2e0",
   "metadata": {},
   "source": [
    "4. Viendo la tabla resumen tenemos que la o las variables con p-valor mas pequeño son las mas significativas. La hipotesis que pone a prueba este test es que si el coeficiente es $\\beta_i$ es razonablemente 0, entonces si vemos los resultados de X3\n",
    "\n",
    "\tX3            1.9282     0.2151   8.966 1.42e-11 ***\t\n",
    "    \n",
    "    De aquí se dice que la significancia minima para decir que el coeficiente es 0 es 1.42e-11, por tanto con una significancia del 0.05 claramente al ser mayor que el p-valor decimos que el coeficiente es significativamente distinto de 0"
   ]
  },
  {
   "cell_type": "markdown",
   "id": "1f2f081b-2bcf-496a-8989-08bc0296c76d",
   "metadata": {},
   "source": [
    "5. El valor p de X1 es 0.266279 por tanto la significancia minima que uno se debe tomar para decir que el coeficiente que acompaña a X1 en la ecuación es 0.266279 por tanto como nuestra significancia de 0.05 es menor que el pvalor puedo decir que en realidad es razonable que el coeficiente que acompaña a X1 es 0. Es decir como $0*X1 = 0$ podemos decir que la cantidad de productos vendidos en KG no aporta en las ganancias y perdidas de la empresa."
   ]
  },
  {
   "cell_type": "markdown",
   "id": "1d274687-5c8a-438f-a77f-323ddb03012b",
   "metadata": {},
   "source": [
    "6. El valor p de X2 es 0.032177 por tanto la significancia minima que uno se debe tomar para decir que el coeficiente que acompaña a X2 en la ecuación es 0.032177 por tanto como nuestra significancia de 0.05 es mayor que el pvalor puedo decir que en realidad es razonable que el coeficiente que acompaña a X2 no sea 0. Es decir que  la cantidad de cargamento recibido en KG aporta en las ganancias y perdidas de la empresa. PERO con una significancia del 0.01 que es menor que el pvalor puedo decir que en realidad es razonable que el coeficiente que acompaña a X2 es 0. Es decir como $0*X2 = 0$ podemos decir que la cantidad de cargamento recibido en KG no aporta en las ganancias y perdidas de la empresa. "
   ]
  },
  {
   "cell_type": "markdown",
   "id": "641274b0-75d3-4bb7-b893-3e7d605b6366",
   "metadata": {},
   "source": [
    "7. Ambos modelos tienen $R^2$ similares y prueba F valida. Se puede usar cualquiera de los dos y se obtendran resultados similares, solo que el segundo al tener menos variables es mas simple su tratamiento computacional."
   ]
  }
 ],
 "metadata": {
  "kernelspec": {
   "display_name": "R",
   "language": "R",
   "name": "ir"
  },
  "language_info": {
   "codemirror_mode": "r",
   "file_extension": ".r",
   "mimetype": "text/x-r-source",
   "name": "R",
   "pygments_lexer": "r",
   "version": "4.3.3"
  }
 },
 "nbformat": 4,
 "nbformat_minor": 5
}
