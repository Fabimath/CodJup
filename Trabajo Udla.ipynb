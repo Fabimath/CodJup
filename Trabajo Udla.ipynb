{
 "cells": [
  {
   "cell_type": "code",
   "execution_count": 2,
   "id": "b20a16de-b947-4754-9ba3-fbbce8b138f1",
   "metadata": {},
   "outputs": [
    {
     "data": {
      "text/html": [
       "<table class=\"dataframe\">\n",
       "<caption>A data.frame: 6 × 30</caption>\n",
       "<thead>\n",
       "\t<tr><th></th><th scope=col>X</th><th scope=col>IdEncuesta</th><th scope=col>Region</th><th scope=col>Zona</th><th scope=col>Edad</th><th scope=col>Sexo</th><th scope=col>c1...En.qué.país.nació.usted.</th><th scope=col>cd1...Cómo.se.siente.con.su.vida.en.general..con.su.trabajo..familia..bienestar..salud..amor..</th><th scope=col>cd2..En.general.Ud..diría.que.su.salud.es.</th><th scope=col>cd7..Sobre.la.angustia.o.depresión...Diría.usted.que..</th><th scope=col>⋯</th><th scope=col>die8..En.una.semana.típica...Cuántos.días.come.Ud..verduras..hortalizas.o.ensaladas.de.verduras..No.considerar.papas.ni.legumbres</th><th scope=col>die10_b...con.qué.frecuencia.revisa.y.toma.en.cuenta.la.Información.o.tabla.nutricional..Es.decir.la.cantidad.de.calorías..grasas..proteínas..sal.y.otros.</th><th scope=col>die11...Cuántos.vasos.de.agua.al.día.consume.Usted.</th><th scope=col>ts4...Despierta.usted.sintiéndose.cansado.a..o.casi.tan.cansado.a..como.antes.de.dormir..por.lo.menos.tres.días.a.la.semana.</th><th scope=col>ts5..En.promedio...cuántas.horas.duerme.los.días.de.semana.</th><th scope=col>ts6..En.promedio...cuántas.horas.duerme.los.fines.de.semana.</th><th scope=col>di3..Alguna.vez.un.doctor..una.enfermera.u.otro.profesional.de.la.salud.le.ha.dicho.a.Ud..que.ha.tenido.o.que.tiene.o.que.padece.de.Diabetes..azúcar.alta.en.la.sangre..</th><th scope=col>dis2...Alguna.vez.un.doctor..una.enfermera.u.otro.profesional.de.la.salud.le.ha.dicho.a.Ud..que.ha.tenido..que.tiene.o.que.padece.del.colesterol.alto.</th><th scope=col>ps7...Con.qué.frecuencia.se.ha.sentido.estresado.durante.el.último.año..irritable..lleno.de.ansiedad.o.sin.poder.dormir..debido.a.situaciones.en.la.casa.o.en.el.trabajo.</th><th scope=col>ps9..Usted..aparte.de.sus.actividades.habituales...tiene.a.su.cargo.el.cuidado.de.niños..adultos.mayores..personas.en.situación.de.discapacidad.o.personas.con.enfermedades.crónicas.</th></tr>\n",
       "\t<tr><th></th><th scope=col>&lt;int&gt;</th><th scope=col>&lt;int&gt;</th><th scope=col>&lt;chr&gt;</th><th scope=col>&lt;chr&gt;</th><th scope=col>&lt;int&gt;</th><th scope=col>&lt;chr&gt;</th><th scope=col>&lt;chr&gt;</th><th scope=col>&lt;chr&gt;</th><th scope=col>&lt;chr&gt;</th><th scope=col>&lt;chr&gt;</th><th scope=col>⋯</th><th scope=col>&lt;int&gt;</th><th scope=col>&lt;chr&gt;</th><th scope=col>&lt;int&gt;</th><th scope=col>&lt;chr&gt;</th><th scope=col>&lt;int&gt;</th><th scope=col>&lt;int&gt;</th><th scope=col>&lt;chr&gt;</th><th scope=col>&lt;chr&gt;</th><th scope=col>&lt;chr&gt;</th><th scope=col>&lt;chr&gt;</th></tr>\n",
       "</thead>\n",
       "<tbody>\n",
       "\t<tr><th scope=row>1</th><td>1</td><td>20006</td><td>XIII. Metropolitana</td><td>URBANA</td><td>38</td><td>MUJER </td><td>CHILE        </td><td>MUY BIEN       </td><td>BUENA    </td><td>NO ESTOY ANGUSTIADO O DEPRIMIDO</td><td>⋯</td><td>7</td><td>CASI SIEMPRE</td><td>9</td><td>SÍ</td><td>8</td><td>9</td><td>NO</td><td>NO, NUNCA ME LO HAN DICHO</td><td>VARIAS VECES SE HA SENTIDO ESTRESADO EN LA CASA O EN EL TRABAJO </td><td>NO, NO TENGO A CARGO A NADIE</td></tr>\n",
       "\t<tr><th scope=row>2</th><td>2</td><td>20008</td><td>XIII. Metropolitana</td><td>URBANA</td><td>25</td><td>MUJER </td><td>CHILE        </td><td>REGULAR        </td><td>BUENA    </td><td>NO ESTOY ANGUSTIADO O DEPRIMIDO</td><td>⋯</td><td>7</td><td>RARA VEZ    </td><td>9</td><td>SÍ</td><td>3</td><td>7</td><td>NO</td><td>NO, NUNCA ME LO HAN DICHO</td><td>NUNCA SINTIÓ ESTRÉS                                             </td><td>NO, NO TENGO A CARGO A NADIE</td></tr>\n",
       "\t<tr><th scope=row>3</th><td>3</td><td>20011</td><td>XIII. Metropolitana</td><td>URBANA</td><td>20</td><td>MUJER </td><td>OTRO (¿CUAL?)</td><td>MÁS QUE REGULAR</td><td>MUY BUENA</td><td>NO ESTOY ANGUSTIADO O DEPRIMIDO</td><td>⋯</td><td>7</td><td>NUNCA       </td><td>3</td><td>NO</td><td>6</td><td>8</td><td>NO</td><td>NO, NUNCA ME LO HAN DICHO</td><td>NUNCA SINTIÓ ESTRÉS                                             </td><td>NO, NO TENGO A CARGO A NADIE</td></tr>\n",
       "\t<tr><th scope=row>4</th><td>4</td><td>20012</td><td>XIII. Metropolitana</td><td>URBANA</td><td>85</td><td>MUJER </td><td>CHILE        </td><td>MÁS QUE REGULAR</td><td>BUENA    </td><td>NO ESTOY ANGUSTIADO O DEPRIMIDO</td><td>⋯</td><td>7</td><td>CASI SIEMPRE</td><td>1</td><td>NO</td><td>8</td><td>8</td><td>NO</td><td>SÍ, MÁS DE UNA VEZ       </td><td>NUNCA SINTIÓ ESTRÉS                                             </td><td>NO, NO TENGO A CARGO A NADIE</td></tr>\n",
       "\t<tr><th scope=row>5</th><td>5</td><td>20013</td><td>XIII. Metropolitana</td><td>URBANA</td><td>41</td><td>HOMBRE</td><td>CHILE        </td><td>BIEN           </td><td>REGULAR  </td><td>NO ESTOY ANGUSTIADO O DEPRIMIDO</td><td>⋯</td><td>7</td><td>RARA VEZ    </td><td>5</td><td>NO</td><td>8</td><td>8</td><td>SÍ</td><td>NO, NUNCA ME LO HAN DICHO</td><td>ALGUNAS VECES SE HA SENTIDO ESTRESADO EN LA CASA O EN EL TRABAJO</td><td>NO, NO TENGO A CARGO A NADIE</td></tr>\n",
       "\t<tr><th scope=row>6</th><td>6</td><td>20017</td><td>XIII. Metropolitana</td><td>URBANA</td><td>30</td><td>MUJER </td><td>CHILE        </td><td>BIEN           </td><td>BUENA    </td><td>NO ESTOY ANGUSTIADO O DEPRIMIDO</td><td>⋯</td><td>7</td><td>SIEMPRE     </td><td>8</td><td>SÍ</td><td>8</td><td>8</td><td>NO</td><td>NO, NUNCA ME LO HAN DICHO</td><td>VARIAS VECES SE HA SENTIDO ESTRESADO EN LA CASA O EN EL TRABAJO </td><td>SÍ, COMO ÚNICO CUIDADOR     </td></tr>\n",
       "</tbody>\n",
       "</table>\n"
      ],
      "text/latex": [
       "A data.frame: 6 × 30\n",
       "\\begin{tabular}{r|lllllllllllllllllllll}\n",
       "  & X & IdEncuesta & Region & Zona & Edad & Sexo & c1...En.qué.país.nació.usted. & cd1...Cómo.se.siente.con.su.vida.en.general..con.su.trabajo..familia..bienestar..salud..amor.. & cd2..En.general.Ud..diría.que.su.salud.es. & cd7..Sobre.la.angustia.o.depresión...Diría.usted.que.. & ⋯ & die8..En.una.semana.típica...Cuántos.días.come.Ud..verduras..hortalizas.o.ensaladas.de.verduras..No.considerar.papas.ni.legumbres & die10\\_b...con.qué.frecuencia.revisa.y.toma.en.cuenta.la.Información.o.tabla.nutricional..Es.decir.la.cantidad.de.calorías..grasas..proteínas..sal.y.otros. & die11...Cuántos.vasos.de.agua.al.día.consume.Usted. & ts4...Despierta.usted.sintiéndose.cansado.a..o.casi.tan.cansado.a..como.antes.de.dormir..por.lo.menos.tres.días.a.la.semana. & ts5..En.promedio...cuántas.horas.duerme.los.días.de.semana. & ts6..En.promedio...cuántas.horas.duerme.los.fines.de.semana. & di3..Alguna.vez.un.doctor..una.enfermera.u.otro.profesional.de.la.salud.le.ha.dicho.a.Ud..que.ha.tenido.o.que.tiene.o.que.padece.de.Diabetes..azúcar.alta.en.la.sangre.. & dis2...Alguna.vez.un.doctor..una.enfermera.u.otro.profesional.de.la.salud.le.ha.dicho.a.Ud..que.ha.tenido..que.tiene.o.que.padece.del.colesterol.alto. & ps7...Con.qué.frecuencia.se.ha.sentido.estresado.durante.el.último.año..irritable..lleno.de.ansiedad.o.sin.poder.dormir..debido.a.situaciones.en.la.casa.o.en.el.trabajo. & ps9..Usted..aparte.de.sus.actividades.habituales...tiene.a.su.cargo.el.cuidado.de.niños..adultos.mayores..personas.en.situación.de.discapacidad.o.personas.con.enfermedades.crónicas.\\\\\n",
       "  & <int> & <int> & <chr> & <chr> & <int> & <chr> & <chr> & <chr> & <chr> & <chr> & ⋯ & <int> & <chr> & <int> & <chr> & <int> & <int> & <chr> & <chr> & <chr> & <chr>\\\\\n",
       "\\hline\n",
       "\t1 & 1 & 20006 & XIII. Metropolitana & URBANA & 38 & MUJER  & CHILE         & MUY BIEN        & BUENA     & NO ESTOY ANGUSTIADO O DEPRIMIDO & ⋯ & 7 & CASI SIEMPRE & 9 & SÍ & 8 & 9 & NO & NO, NUNCA ME LO HAN DICHO & VARIAS VECES SE HA SENTIDO ESTRESADO EN LA CASA O EN EL TRABAJO  & NO, NO TENGO A CARGO A NADIE\\\\\n",
       "\t2 & 2 & 20008 & XIII. Metropolitana & URBANA & 25 & MUJER  & CHILE         & REGULAR         & BUENA     & NO ESTOY ANGUSTIADO O DEPRIMIDO & ⋯ & 7 & RARA VEZ     & 9 & SÍ & 3 & 7 & NO & NO, NUNCA ME LO HAN DICHO & NUNCA SINTIÓ ESTRÉS                                              & NO, NO TENGO A CARGO A NADIE\\\\\n",
       "\t3 & 3 & 20011 & XIII. Metropolitana & URBANA & 20 & MUJER  & OTRO (¿CUAL?) & MÁS QUE REGULAR & MUY BUENA & NO ESTOY ANGUSTIADO O DEPRIMIDO & ⋯ & 7 & NUNCA        & 3 & NO & 6 & 8 & NO & NO, NUNCA ME LO HAN DICHO & NUNCA SINTIÓ ESTRÉS                                              & NO, NO TENGO A CARGO A NADIE\\\\\n",
       "\t4 & 4 & 20012 & XIII. Metropolitana & URBANA & 85 & MUJER  & CHILE         & MÁS QUE REGULAR & BUENA     & NO ESTOY ANGUSTIADO O DEPRIMIDO & ⋯ & 7 & CASI SIEMPRE & 1 & NO & 8 & 8 & NO & SÍ, MÁS DE UNA VEZ        & NUNCA SINTIÓ ESTRÉS                                              & NO, NO TENGO A CARGO A NADIE\\\\\n",
       "\t5 & 5 & 20013 & XIII. Metropolitana & URBANA & 41 & HOMBRE & CHILE         & BIEN            & REGULAR   & NO ESTOY ANGUSTIADO O DEPRIMIDO & ⋯ & 7 & RARA VEZ     & 5 & NO & 8 & 8 & SÍ & NO, NUNCA ME LO HAN DICHO & ALGUNAS VECES SE HA SENTIDO ESTRESADO EN LA CASA O EN EL TRABAJO & NO, NO TENGO A CARGO A NADIE\\\\\n",
       "\t6 & 6 & 20017 & XIII. Metropolitana & URBANA & 30 & MUJER  & CHILE         & BIEN            & BUENA     & NO ESTOY ANGUSTIADO O DEPRIMIDO & ⋯ & 7 & SIEMPRE      & 8 & SÍ & 8 & 8 & NO & NO, NUNCA ME LO HAN DICHO & VARIAS VECES SE HA SENTIDO ESTRESADO EN LA CASA O EN EL TRABAJO  & SÍ, COMO ÚNICO CUIDADOR     \\\\\n",
       "\\end{tabular}\n"
      ],
      "text/markdown": [
       "\n",
       "A data.frame: 6 × 30\n",
       "\n",
       "| <!--/--> | X &lt;int&gt; | IdEncuesta &lt;int&gt; | Region &lt;chr&gt; | Zona &lt;chr&gt; | Edad &lt;int&gt; | Sexo &lt;chr&gt; | c1...En.qué.país.nació.usted. &lt;chr&gt; | cd1...Cómo.se.siente.con.su.vida.en.general..con.su.trabajo..familia..bienestar..salud..amor.. &lt;chr&gt; | cd2..En.general.Ud..diría.que.su.salud.es. &lt;chr&gt; | cd7..Sobre.la.angustia.o.depresión...Diría.usted.que.. &lt;chr&gt; | ⋯ ⋯ | die8..En.una.semana.típica...Cuántos.días.come.Ud..verduras..hortalizas.o.ensaladas.de.verduras..No.considerar.papas.ni.legumbres &lt;int&gt; | die10_b...con.qué.frecuencia.revisa.y.toma.en.cuenta.la.Información.o.tabla.nutricional..Es.decir.la.cantidad.de.calorías..grasas..proteínas..sal.y.otros. &lt;chr&gt; | die11...Cuántos.vasos.de.agua.al.día.consume.Usted. &lt;int&gt; | ts4...Despierta.usted.sintiéndose.cansado.a..o.casi.tan.cansado.a..como.antes.de.dormir..por.lo.menos.tres.días.a.la.semana. &lt;chr&gt; | ts5..En.promedio...cuántas.horas.duerme.los.días.de.semana. &lt;int&gt; | ts6..En.promedio...cuántas.horas.duerme.los.fines.de.semana. &lt;int&gt; | di3..Alguna.vez.un.doctor..una.enfermera.u.otro.profesional.de.la.salud.le.ha.dicho.a.Ud..que.ha.tenido.o.que.tiene.o.que.padece.de.Diabetes..azúcar.alta.en.la.sangre.. &lt;chr&gt; | dis2...Alguna.vez.un.doctor..una.enfermera.u.otro.profesional.de.la.salud.le.ha.dicho.a.Ud..que.ha.tenido..que.tiene.o.que.padece.del.colesterol.alto. &lt;chr&gt; | ps7...Con.qué.frecuencia.se.ha.sentido.estresado.durante.el.último.año..irritable..lleno.de.ansiedad.o.sin.poder.dormir..debido.a.situaciones.en.la.casa.o.en.el.trabajo. &lt;chr&gt; | ps9..Usted..aparte.de.sus.actividades.habituales...tiene.a.su.cargo.el.cuidado.de.niños..adultos.mayores..personas.en.situación.de.discapacidad.o.personas.con.enfermedades.crónicas. &lt;chr&gt; |\n",
       "|---|---|---|---|---|---|---|---|---|---|---|---|---|---|---|---|---|---|---|---|---|---|\n",
       "| 1 | 1 | 20006 | XIII. Metropolitana | URBANA | 38 | MUJER  | CHILE         | MUY BIEN        | BUENA     | NO ESTOY ANGUSTIADO O DEPRIMIDO | ⋯ | 7 | CASI SIEMPRE | 9 | SÍ | 8 | 9 | NO | NO, NUNCA ME LO HAN DICHO | VARIAS VECES SE HA SENTIDO ESTRESADO EN LA CASA O EN EL TRABAJO  | NO, NO TENGO A CARGO A NADIE |\n",
       "| 2 | 2 | 20008 | XIII. Metropolitana | URBANA | 25 | MUJER  | CHILE         | REGULAR         | BUENA     | NO ESTOY ANGUSTIADO O DEPRIMIDO | ⋯ | 7 | RARA VEZ     | 9 | SÍ | 3 | 7 | NO | NO, NUNCA ME LO HAN DICHO | NUNCA SINTIÓ ESTRÉS                                              | NO, NO TENGO A CARGO A NADIE |\n",
       "| 3 | 3 | 20011 | XIII. Metropolitana | URBANA | 20 | MUJER  | OTRO (¿CUAL?) | MÁS QUE REGULAR | MUY BUENA | NO ESTOY ANGUSTIADO O DEPRIMIDO | ⋯ | 7 | NUNCA        | 3 | NO | 6 | 8 | NO | NO, NUNCA ME LO HAN DICHO | NUNCA SINTIÓ ESTRÉS                                              | NO, NO TENGO A CARGO A NADIE |\n",
       "| 4 | 4 | 20012 | XIII. Metropolitana | URBANA | 85 | MUJER  | CHILE         | MÁS QUE REGULAR | BUENA     | NO ESTOY ANGUSTIADO O DEPRIMIDO | ⋯ | 7 | CASI SIEMPRE | 1 | NO | 8 | 8 | NO | SÍ, MÁS DE UNA VEZ        | NUNCA SINTIÓ ESTRÉS                                              | NO, NO TENGO A CARGO A NADIE |\n",
       "| 5 | 5 | 20013 | XIII. Metropolitana | URBANA | 41 | HOMBRE | CHILE         | BIEN            | REGULAR   | NO ESTOY ANGUSTIADO O DEPRIMIDO | ⋯ | 7 | RARA VEZ     | 5 | NO | 8 | 8 | SÍ | NO, NUNCA ME LO HAN DICHO | ALGUNAS VECES SE HA SENTIDO ESTRESADO EN LA CASA O EN EL TRABAJO | NO, NO TENGO A CARGO A NADIE |\n",
       "| 6 | 6 | 20017 | XIII. Metropolitana | URBANA | 30 | MUJER  | CHILE         | BIEN            | BUENA     | NO ESTOY ANGUSTIADO O DEPRIMIDO | ⋯ | 7 | SIEMPRE      | 8 | SÍ | 8 | 8 | NO | NO, NUNCA ME LO HAN DICHO | VARIAS VECES SE HA SENTIDO ESTRESADO EN LA CASA O EN EL TRABAJO  | SÍ, COMO ÚNICO CUIDADOR      |\n",
       "\n"
      ],
      "text/plain": [
       "  X IdEncuesta Region              Zona   Edad Sexo  \n",
       "1 1 20006      XIII. Metropolitana URBANA 38   MUJER \n",
       "2 2 20008      XIII. Metropolitana URBANA 25   MUJER \n",
       "3 3 20011      XIII. Metropolitana URBANA 20   MUJER \n",
       "4 4 20012      XIII. Metropolitana URBANA 85   MUJER \n",
       "5 5 20013      XIII. Metropolitana URBANA 41   HOMBRE\n",
       "6 6 20017      XIII. Metropolitana URBANA 30   MUJER \n",
       "  c1...En.qué.país.nació.usted.\n",
       "1 CHILE                        \n",
       "2 CHILE                        \n",
       "3 OTRO (¿CUAL?)                \n",
       "4 CHILE                        \n",
       "5 CHILE                        \n",
       "6 CHILE                        \n",
       "  cd1...Cómo.se.siente.con.su.vida.en.general..con.su.trabajo..familia..bienestar..salud..amor..\n",
       "1 MUY BIEN                                                                                      \n",
       "2 REGULAR                                                                                       \n",
       "3 MÁS QUE REGULAR                                                                               \n",
       "4 MÁS QUE REGULAR                                                                               \n",
       "5 BIEN                                                                                          \n",
       "6 BIEN                                                                                          \n",
       "  cd2..En.general.Ud..diría.que.su.salud.es.\n",
       "1 BUENA                                     \n",
       "2 BUENA                                     \n",
       "3 MUY BUENA                                 \n",
       "4 BUENA                                     \n",
       "5 REGULAR                                   \n",
       "6 BUENA                                     \n",
       "  cd7..Sobre.la.angustia.o.depresión...Diría.usted.que.. ⋯\n",
       "1 NO ESTOY ANGUSTIADO O DEPRIMIDO                        ⋯\n",
       "2 NO ESTOY ANGUSTIADO O DEPRIMIDO                        ⋯\n",
       "3 NO ESTOY ANGUSTIADO O DEPRIMIDO                        ⋯\n",
       "4 NO ESTOY ANGUSTIADO O DEPRIMIDO                        ⋯\n",
       "5 NO ESTOY ANGUSTIADO O DEPRIMIDO                        ⋯\n",
       "6 NO ESTOY ANGUSTIADO O DEPRIMIDO                        ⋯\n",
       "  die8..En.una.semana.típica...Cuántos.días.come.Ud..verduras..hortalizas.o.ensaladas.de.verduras..No.considerar.papas.ni.legumbres\n",
       "1 7                                                                                                                                \n",
       "2 7                                                                                                                                \n",
       "3 7                                                                                                                                \n",
       "4 7                                                                                                                                \n",
       "5 7                                                                                                                                \n",
       "6 7                                                                                                                                \n",
       "  die10_b...con.qué.frecuencia.revisa.y.toma.en.cuenta.la.Información.o.tabla.nutricional..Es.decir.la.cantidad.de.calorías..grasas..proteínas..sal.y.otros.\n",
       "1 CASI SIEMPRE                                                                                                                                              \n",
       "2 RARA VEZ                                                                                                                                                  \n",
       "3 NUNCA                                                                                                                                                     \n",
       "4 CASI SIEMPRE                                                                                                                                              \n",
       "5 RARA VEZ                                                                                                                                                  \n",
       "6 SIEMPRE                                                                                                                                                   \n",
       "  die11...Cuántos.vasos.de.agua.al.día.consume.Usted.\n",
       "1 9                                                  \n",
       "2 9                                                  \n",
       "3 3                                                  \n",
       "4 1                                                  \n",
       "5 5                                                  \n",
       "6 8                                                  \n",
       "  ts4...Despierta.usted.sintiéndose.cansado.a..o.casi.tan.cansado.a..como.antes.de.dormir..por.lo.menos.tres.días.a.la.semana.\n",
       "1 SÍ                                                                                                                          \n",
       "2 SÍ                                                                                                                          \n",
       "3 NO                                                                                                                          \n",
       "4 NO                                                                                                                          \n",
       "5 NO                                                                                                                          \n",
       "6 SÍ                                                                                                                          \n",
       "  ts5..En.promedio...cuántas.horas.duerme.los.días.de.semana.\n",
       "1 8                                                          \n",
       "2 3                                                          \n",
       "3 6                                                          \n",
       "4 8                                                          \n",
       "5 8                                                          \n",
       "6 8                                                          \n",
       "  ts6..En.promedio...cuántas.horas.duerme.los.fines.de.semana.\n",
       "1 9                                                           \n",
       "2 7                                                           \n",
       "3 8                                                           \n",
       "4 8                                                           \n",
       "5 8                                                           \n",
       "6 8                                                           \n",
       "  di3..Alguna.vez.un.doctor..una.enfermera.u.otro.profesional.de.la.salud.le.ha.dicho.a.Ud..que.ha.tenido.o.que.tiene.o.que.padece.de.Diabetes..azúcar.alta.en.la.sangre..\n",
       "1 NO                                                                                                                                                                      \n",
       "2 NO                                                                                                                                                                      \n",
       "3 NO                                                                                                                                                                      \n",
       "4 NO                                                                                                                                                                      \n",
       "5 SÍ                                                                                                                                                                      \n",
       "6 NO                                                                                                                                                                      \n",
       "  dis2...Alguna.vez.un.doctor..una.enfermera.u.otro.profesional.de.la.salud.le.ha.dicho.a.Ud..que.ha.tenido..que.tiene.o.que.padece.del.colesterol.alto.\n",
       "1 NO, NUNCA ME LO HAN DICHO                                                                                                                             \n",
       "2 NO, NUNCA ME LO HAN DICHO                                                                                                                             \n",
       "3 NO, NUNCA ME LO HAN DICHO                                                                                                                             \n",
       "4 SÍ, MÁS DE UNA VEZ                                                                                                                                    \n",
       "5 NO, NUNCA ME LO HAN DICHO                                                                                                                             \n",
       "6 NO, NUNCA ME LO HAN DICHO                                                                                                                             \n",
       "  ps7...Con.qué.frecuencia.se.ha.sentido.estresado.durante.el.último.año..irritable..lleno.de.ansiedad.o.sin.poder.dormir..debido.a.situaciones.en.la.casa.o.en.el.trabajo.\n",
       "1 VARIAS VECES SE HA SENTIDO ESTRESADO EN LA CASA O EN EL TRABAJO                                                                                                          \n",
       "2 NUNCA SINTIÓ ESTRÉS                                                                                                                                                      \n",
       "3 NUNCA SINTIÓ ESTRÉS                                                                                                                                                      \n",
       "4 NUNCA SINTIÓ ESTRÉS                                                                                                                                                      \n",
       "5 ALGUNAS VECES SE HA SENTIDO ESTRESADO EN LA CASA O EN EL TRABAJO                                                                                                         \n",
       "6 VARIAS VECES SE HA SENTIDO ESTRESADO EN LA CASA O EN EL TRABAJO                                                                                                          \n",
       "  ps9..Usted..aparte.de.sus.actividades.habituales...tiene.a.su.cargo.el.cuidado.de.niños..adultos.mayores..personas.en.situación.de.discapacidad.o.personas.con.enfermedades.crónicas.\n",
       "1 NO, NO TENGO A CARGO A NADIE                                                                                                                                                         \n",
       "2 NO, NO TENGO A CARGO A NADIE                                                                                                                                                         \n",
       "3 NO, NO TENGO A CARGO A NADIE                                                                                                                                                         \n",
       "4 NO, NO TENGO A CARGO A NADIE                                                                                                                                                         \n",
       "5 NO, NO TENGO A CARGO A NADIE                                                                                                                                                         \n",
       "6 SÍ, COMO ÚNICO CUIDADOR                                                                                                                                                              "
      ]
     },
     "metadata": {},
     "output_type": "display_data"
    }
   ],
   "source": [
    "df = read.csv('datos_UDLA.csv')\n",
    "head(df)"
   ]
  },
  {
   "cell_type": "markdown",
   "id": "6f76315a-a9eb-4d4e-a4fe-f30ff1bcfa69",
   "metadata": {},
   "source": [
    "Definición de la población del estudio y su tamaño. Definición de la muestra analizada y su\n",
    "tamaño +1"
   ]
  },
  {
   "cell_type": "markdown",
   "id": "48745cf2-47f9-44c9-97e5-1ff5aec6278b",
   "metadata": {},
   "source": [
    "Selección de 5 variables de su interés y realizar su clasificación (3 cualitativas y 2 cuantitativas). +2\n"
   ]
  },
  {
   "cell_type": "markdown",
   "id": "d41b749c-0e02-4f2b-8fb7-706e0b656e61",
   "metadata": {},
   "source": [
    "Análisis mediante el cálculo de razones, proporciones o porcentajes con las variables\n",
    "previamente seleccionada +2"
   ]
  },
  {
   "cell_type": "markdown",
   "id": "4580d1d2-d97a-4c69-949a-66f439360c1e",
   "metadata": {},
   "source": [
    "Conclusiones sobre hallazgos relevantes en su análisis. +1\n"
   ]
  },
  {
   "cell_type": "markdown",
   "id": "4c1bc1fb-aea3-4483-a3c7-b42f90dbbae5",
   "metadata": {},
   "source": [
    "Formato Punto base"
   ]
  },
  {
   "cell_type": "code",
   "execution_count": 3,
   "id": "d1b032fd-6677-4a3f-aa11-04d2159634ec",
   "metadata": {},
   "outputs": [
    {
     "data": {
      "text/html": [
       "<style>\n",
       ".list-inline {list-style: none; margin:0; padding: 0}\n",
       ".list-inline>li {display: inline-block}\n",
       ".list-inline>li:not(:last-child)::after {content: \"\\00b7\"; padding: 0 .5ex}\n",
       "</style>\n",
       "<ol class=list-inline><li>912</li><li>30</li></ol>\n"
      ],
      "text/latex": [
       "\\begin{enumerate*}\n",
       "\\item 912\n",
       "\\item 30\n",
       "\\end{enumerate*}\n"
      ],
      "text/markdown": [
       "1. 912\n",
       "2. 30\n",
       "\n",
       "\n"
      ],
      "text/plain": [
       "[1] 912  30"
      ]
     },
     "metadata": {},
     "output_type": "display_data"
    }
   ],
   "source": [
    "dim(df)"
   ]
  }
 ],
 "metadata": {
  "kernelspec": {
   "display_name": "R",
   "language": "R",
   "name": "ir"
  },
  "language_info": {
   "codemirror_mode": "r",
   "file_extension": ".r",
   "mimetype": "text/x-r-source",
   "name": "R",
   "pygments_lexer": "r",
   "version": "4.3.2"
  }
 },
 "nbformat": 4,
 "nbformat_minor": 5
}
